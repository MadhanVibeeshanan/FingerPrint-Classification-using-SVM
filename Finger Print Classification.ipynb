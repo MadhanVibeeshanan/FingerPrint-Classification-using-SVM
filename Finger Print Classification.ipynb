{
 "cells": [
  {
   "cell_type": "markdown",
   "metadata": {},
   "source": [
    "# This is to read the files and setting the Path"
   ]
  },
  {
   "cell_type": "code",
   "execution_count": null,
   "metadata": {
    "collapsed": true,
    "scrolled": false
   },
   "outputs": [],
   "source": [
    "%%time\n",
    "from PIL import Image\n",
    "import glob\n",
    "import numpy as np\n",
    "from sklearn.svm import SVC\n",
    "import os\n",
    "from sklearn.preprocessing import normalize\n",
    "from sklearn import svm\n",
    "\n",
    "#----TRAIN DATA ------\n",
    "training_path = glob.glob('./training/*.bmp')\n",
    "#testA_path = glob.glob('./testA/*.bmp')\n",
    "testA_path = glob.glob('./testA/*.bmp')\n",
    "\n",
    "np.set_printoptions(threshold=np.nan)\n",
    "\n",
    "filenames = training_path\n",
    "filenames1 = testA_path\n"
   ]
  },
  {
   "cell_type": "markdown",
   "metadata": {},
   "source": [
    "# **** PREPROCESSING -->"
   ]
  },
  {
   "cell_type": "markdown",
   "metadata": {},
   "source": [
    "# This is to crop the image to remove Noise (White space)"
   ]
  },
  {
   "cell_type": "code",
   "execution_count": null,
   "metadata": {
    "collapsed": true,
    "scrolled": true
   },
   "outputs": [],
   "source": [
    "def trim(im):\n",
    "    im = im.convert('L') #convert to grayscale\n",
    "    w,h = im.size\n",
    "    i = im.crop((30, 1, w-30, h))\n",
    "    return i"
   ]
  },
  {
   "cell_type": "markdown",
   "metadata": {},
   "source": [
    "# This is to open each image, crop it and then resize to 256 again to get equal matrix."
   ]
  },
  {
   "cell_type": "code",
   "execution_count": null,
   "metadata": {
    "collapsed": true
   },
   "outputs": [],
   "source": [
    "from resizeimage import resizeimage\n",
    "\n",
    "img = [trim(Image.open(fn)).resize((256,256)) for fn in filenames]\n",
    "Xtrain = np.asarray([np.array(im).flatten() for im in img])\n",
    "\n",
    "img1 = [trim(Image.open(fn)).resize((256,256)) for fn in filenames1]\n",
    "Xtest = np.asarray([np.array(im).flatten() for im in img1])\n",
    "\n",
    "print(Xtrain.shape)\n",
    "print(Xtest.shape)"
   ]
  },
  {
   "cell_type": "markdown",
   "metadata": {},
   "source": [
    "# Normalization operation on the sets"
   ]
  },
  {
   "cell_type": "code",
   "execution_count": null,
   "metadata": {
    "collapsed": true
   },
   "outputs": [],
   "source": [
    "from sklearn import preprocessing\n",
    "Xtrain = preprocessing.normalize(Xtrain, norm='l2')\n",
    "Xtest = preprocessing.normalize(Xtest, norm='l2')"
   ]
  },
  {
   "cell_type": "markdown",
   "metadata": {},
   "source": [
    "# XtrainLabels and XtestLabels are label matrix for Train and Test Set's Label's."
   ]
  },
  {
   "cell_type": "code",
   "execution_count": null,
   "metadata": {
    "collapsed": true
   },
   "outputs": [],
   "source": [
    "XtrainLabels = []\n",
    "for i in os.listdir(\"\"\"/home/bhagyashree/MachineLearning/Assignments/Assignment-4/training\"\"\"):\n",
    "    i = i.split('_')\n",
    "    i = int(i[0])\n",
    "    XtrainLabels.append(i)\n",
    "identiLabels = np.array(XtrainLabels)\n",
    "\n",
    "XtestLabels = []\n",
    "for i in os.listdir(\"\"\"/home/bhagyashree/MachineLearning/Assignments/Assignment-4/testA\"\"\"):\n",
    "    i = i.split('_')\n",
    "    i = int(i[0])\n",
    "    XtestLabels.append(i)"
   ]
  },
  {
   "cell_type": "markdown",
   "metadata": {},
   "source": [
    "# Multi-Class Classification"
   ]
  },
  {
   "cell_type": "markdown",
   "metadata": {},
   "source": [
    "# MultiClass Classifier using Non-Linear Support Vector Machine - SVC() as a One Vs Rest classifier with RBF kernel"
   ]
  },
  {
   "cell_type": "code",
   "execution_count": null,
   "metadata": {
    "collapsed": true
   },
   "outputs": [],
   "source": [
    "from sklearn.multiclass import OneVsRestClassifier\n",
    "clf = svm.SVC(kernel='rbf', C = 10.0, gamma=0.9, decision_function_shape='ovr')\n",
    "clf.fit(Xtrain, XtrainLabels)\n",
    "x_predict = clf.predict(Xtest)\n",
    "\n",
    "print(x_predict)"
   ]
  },
  {
   "cell_type": "markdown",
   "metadata": {},
   "source": [
    "# Accuracy on the Model"
   ]
  },
  {
   "cell_type": "code",
   "execution_count": null,
   "metadata": {
    "collapsed": true
   },
   "outputs": [],
   "source": [
    "from sklearn.metrics import accuracy_score\n",
    "accuracy = accuracy_score(XtestLabels, x_predict)\n",
    "print(\"accuracy: {0:.2f}%\".format((accuracy)*100))"
   ]
  },
  {
   "cell_type": "code",
   "execution_count": null,
   "metadata": {
    "collapsed": true
   },
   "outputs": [],
   "source": []
  }
 ],
 "metadata": {
  "kernelspec": {
   "display_name": "Python 3",
   "language": "python",
   "name": "python3"
  },
  "language_info": {
   "codemirror_mode": {
    "name": "ipython",
    "version": 3
   },
   "file_extension": ".py",
   "mimetype": "text/x-python",
   "name": "python",
   "nbconvert_exporter": "python",
   "pygments_lexer": "ipython3",
   "version": "3.6.3"
  }
 },
 "nbformat": 4,
 "nbformat_minor": 2
}
